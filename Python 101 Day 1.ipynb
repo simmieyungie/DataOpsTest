{
 "cells": [
  {
   "cell_type": "markdown",
   "metadata": {},
   "source": [
    "#### Python 101 Day 1"
   ]
  },
  {
   "cell_type": "code",
   "execution_count": null,
   "metadata": {},
   "outputs": [],
   "source": [
    "print(\"Hello World\")"
   ]
  },
  {
   "cell_type": "code",
   "execution_count": null,
   "metadata": {},
   "outputs": [],
   "source": [
    "print('Hello World\"')"
   ]
  },
  {
   "cell_type": "markdown",
   "metadata": {},
   "source": [
    "#### Assignment: Write a Python Program that prints your name"
   ]
  },
  {
   "cell_type": "code",
   "execution_count": null,
   "metadata": {},
   "outputs": [],
   "source": [
    "print(\"Simi Adeboye\") "
   ]
  },
  {
   "cell_type": "markdown",
   "metadata": {},
   "source": [
    "#### Variables in Python\n",
    "\n",
    "The equal (=) sign is used to assign a variable"
   ]
  },
  {
   "cell_type": "code",
   "execution_count": null,
   "metadata": {},
   "outputs": [],
   "source": [
    "myName01 = \"Simi Adeboye\"\n",
    "\n",
    "print(myName01)"
   ]
  },
  {
   "cell_type": "code",
   "execution_count": null,
   "metadata": {},
   "outputs": [],
   "source": [
    "\"Python\" == \"Python\""
   ]
  },
  {
   "cell_type": "code",
   "execution_count": null,
   "metadata": {},
   "outputs": [],
   "source": [
    "myname_01 = \"Simi\"\n",
    "\n",
    "print(myname_01)"
   ]
  },
  {
   "cell_type": "markdown",
   "metadata": {},
   "source": [
    "#### Assignment: Save your name in a variable and then print it out"
   ]
  },
  {
   "cell_type": "code",
   "execution_count": null,
   "metadata": {},
   "outputs": [],
   "source": [
    "myName = \"Simi Adeboye\"\n",
    "\n",
    "print(myName)"
   ]
  },
  {
   "cell_type": "markdown",
   "metadata": {},
   "source": [
    "#### Your code always runs from top to bottom"
   ]
  },
  {
   "cell_type": "code",
   "execution_count": null,
   "metadata": {},
   "outputs": [],
   "source": [
    "a = 10\n",
    "b = 5\n",
    "\n",
    "print(a  + b)\n",
    "print(a * b)\n",
    "print(a - b)\n",
    "print(a/b)"
   ]
  },
  {
   "cell_type": "markdown",
   "metadata": {},
   "source": [
    "### MultiLine and Indentation"
   ]
  },
  {
   "cell_type": "code",
   "execution_count": null,
   "metadata": {},
   "outputs": [],
   "source": [
    "total = 1 + \\ \n",
    "        2 + \\\n",
    "        3\n",
    "\n",
    "print(total)"
   ]
  },
  {
   "cell_type": "code",
   "execution_count": null,
   "metadata": {},
   "outputs": [],
   "source": [
    "if True:\n",
    "    print(\"True\")\n",
    "else:\n",
    "    print(\"False\")"
   ]
  },
  {
   "cell_type": "markdown",
   "metadata": {},
   "source": [
    "### Commenting in Python Code Cells\n",
    "\n",
    "Comments are created in the **Code Cell** Using the **#**\n",
    "\n",
    "Anything written after the **#** becomes a comment"
   ]
  },
  {
   "cell_type": "code",
   "execution_count": null,
   "metadata": {},
   "outputs": [],
   "source": [
    "myName = \"Simi Adeboye\" #Creating a variable called myName containing my NAME\n",
    "\n",
    "print(myName) #I'm printing out my name"
   ]
  },
  {
   "cell_type": "markdown",
   "metadata": {},
   "source": [
    "### Input:\n",
    "    Prompts Users for Input"
   ]
  },
  {
   "cell_type": "code",
   "execution_count": null,
   "metadata": {},
   "outputs": [],
   "source": [
    "#This is how the input function works\n",
    "yourName = input(\"Hey, Enter Name: \")\n",
    "\n",
    "print(yourName)"
   ]
  },
  {
   "cell_type": "markdown",
   "metadata": {},
   "source": [
    "#### We want to create a python program that prompts users for name, job role, company"
   ]
  },
  {
   "cell_type": "code",
   "execution_count": null,
   "metadata": {},
   "outputs": [],
   "source": [
    "myName = input(\"Hey, Enter Name: \") #create input prompt for name\n",
    "\n",
    "myJob = input(\"Job Role is? \") #create input prompt for job role\n",
    "\n",
    "myCompany = input(\"My Company is? \") #create input prompt for company\n",
    "\n",
    "print(\"Hello\" + \" \" + myName + \" \" + \", You work as a \" + myJob + \" at \" + myCompany)"
   ]
  },
  {
   "cell_type": "markdown",
   "metadata": {},
   "source": [
    "### Assignment\n",
    "#### Write a Python Program, that prompts users for their firstname and lastname. Then display a welcome message with the names"
   ]
  },
  {
   "cell_type": "code",
   "execution_count": null,
   "metadata": {},
   "outputs": [],
   "source": [
    "FirstName = input(\"Kindly Input FirstName: \") #create prompt for firstname\n",
    "\n",
    "LastName = input(\"Kindly Input LastName: \") #Create prompt for lastname\n",
    "\n",
    "print(\"Welcome, \" + FirstName + \" \"+ LastName + \"!\")"
   ]
  },
  {
   "cell_type": "code",
   "execution_count": null,
   "metadata": {},
   "outputs": [],
   "source": [
    "a = 50\n",
    "a*2"
   ]
  },
  {
   "cell_type": "markdown",
   "metadata": {},
   "source": [
    "### IF/ELSE Statements"
   ]
  },
  {
   "cell_type": "code",
   "execution_count": null,
   "metadata": {},
   "outputs": [],
   "source": [
    "#Write a program to tell me if a is greater than b\n",
    "a = 20\n",
    "b = 7\n",
    "\n",
    "if a > b:\n",
    "    print(\"a is greater than b\")"
   ]
  },
  {
   "cell_type": "code",
   "execution_count": 1,
   "metadata": {},
   "outputs": [
    {
     "name": "stdout",
     "output_type": "stream",
     "text": [
      "Enter a number for a: 10\n",
      "Enter a number for b: 10\n",
      "a is equal to b\n"
     ]
    }
   ],
   "source": [
    "a = int(input(\"Enter a number for a: \"))\n",
    "\n",
    "b = int(input(\"Enter a number for b: \"))\n",
    "\n",
    "if a > b:\n",
    "    print(\"a is greater than b\")\n",
    "elif a < b:\n",
    "    print(\"a is less than b\")\n",
    "elif a == b:\n",
    "    print(\"a is equal to b\")"
   ]
  },
  {
   "cell_type": "markdown",
   "metadata": {},
   "source": [
    "#### Write a Python Program that prompts students for their scores and tells them their grade\n",
    "\n",
    "> 70 - A\n",
    "64 to 69 - B\n",
    "63 to 55 - C\n",
    "54 to 45 - D\n",
    "< 40     - E"
   ]
  },
  {
   "cell_type": "code",
   "execution_count": 10,
   "metadata": {},
   "outputs": [
    {
     "name": "stdout",
     "output_type": "stream",
     "text": [
      "Input your score: 70\n",
      "You got an A\n"
     ]
    }
   ],
   "source": [
    "score = int(input(\"Input your score: \"))\n",
    "\n",
    "#check your working directory\n",
    "if score >= 70:\n",
    "    print(\"You got an A\")\n",
    "elif score >= 64:\n",
    "    print(\"You got a B\")\n",
    "elif score >= 55:\n",
    "    print(\"You got a C\")\n",
    "elif score >= 45:\n",
    "    print(\"You got a D\")\n",
    "else:\n",
    "    print(\"You got an F\")"
   ]
  },
  {
   "cell_type": "code",
   "execution_count": null,
   "metadata": {},
   "outputs": [],
   "source": []
  }
 ],
 "metadata": {
  "kernelspec": {
   "display_name": "Python 3",
   "language": "python",
   "name": "python3"
  },
  "language_info": {
   "codemirror_mode": {
    "name": "ipython",
    "version": 3
   },
   "file_extension": ".py",
   "mimetype": "text/x-python",
   "name": "python",
   "nbconvert_exporter": "python",
   "pygments_lexer": "ipython3",
   "version": "3.8.5"
  }
 },
 "nbformat": 4,
 "nbformat_minor": 2
}
