{
 "cells": [
  {
   "cell_type": "markdown",
   "metadata": {},
   "source": [
    "### Functions"
   ]
  },
  {
   "cell_type": "code",
   "execution_count": 1,
   "metadata": {},
   "outputs": [],
   "source": [
    "#define a function that prints out a greeting\n",
    "def GreetUser(): #GreetUser is the function name/identifier\n",
    "    print(\"Hello Simi!\")  #the body of the function\n",
    "    return #exiting the function"
   ]
  },
  {
   "cell_type": "code",
   "execution_count": 3,
   "metadata": {},
   "outputs": [
    {
     "name": "stdout",
     "output_type": "stream",
     "text": [
      "Hello Simi!\n"
     ]
    }
   ],
   "source": [
    "GreetUser() #call/invoke a function"
   ]
  },
  {
   "cell_type": "code",
   "execution_count": 4,
   "metadata": {},
   "outputs": [],
   "source": [
    "#Define a function that takes in two input values and sums the two numbers\n",
    "def Add(x, y):\n",
    "    print(x + y)\n",
    "    return"
   ]
  },
  {
   "cell_type": "code",
   "execution_count": 6,
   "metadata": {},
   "outputs": [
    {
     "name": "stdout",
     "output_type": "stream",
     "text": [
      "5\n"
     ]
    }
   ],
   "source": [
    "Add(2,3) #call the function"
   ]
  },
  {
   "cell_type": "code",
   "execution_count": 7,
   "metadata": {},
   "outputs": [],
   "source": [
    "#write a function that concatenates the firstname and lastname with @yahoo.co.uk\n",
    "def ConcatName(FirstName, LastName):\n",
    "    print(FirstName + LastName + \"@yahoo.co.uk\")\n",
    "    return"
   ]
  },
  {
   "cell_type": "code",
   "execution_count": 8,
   "metadata": {},
   "outputs": [
    {
     "name": "stdout",
     "output_type": "stream",
     "text": [
      "SimiAdeboye@yahoo.co.uk\n"
     ]
    }
   ],
   "source": [
    "ConcatName(\"Simi\", \"Adeboye\")#call the function"
   ]
  },
  {
   "cell_type": "markdown",
   "metadata": {},
   "source": [
    "#### Assignment: Write a Python Function that takes in two values and then provides the square result of the sum"
   ]
  },
  {
   "cell_type": "code",
   "execution_count": 26,
   "metadata": {},
   "outputs": [],
   "source": [
    "def sum(a, b):\n",
    "    print((a + b)**2)\n",
    "    return"
   ]
  },
  {
   "cell_type": "code",
   "execution_count": 27,
   "metadata": {},
   "outputs": [
    {
     "name": "stdout",
     "output_type": "stream",
     "text": [
      "49\n"
     ]
    }
   ],
   "source": [
    "sum(2, 5)"
   ]
  },
  {
   "cell_type": "code",
   "execution_count": 30,
   "metadata": {},
   "outputs": [],
   "source": [
    "num = 100 #global scope\n",
    "\n",
    "\n",
    "def sub(x):\n",
    "    a = x * num #a has a local\n",
    "    return a"
   ]
  },
  {
   "cell_type": "code",
   "execution_count": 35,
   "metadata": {},
   "outputs": [
    {
     "ename": "NameError",
     "evalue": "name 'a' is not defined",
     "output_type": "error",
     "traceback": [
      "\u001b[1;31m---------------------------------------------------------------------------\u001b[0m",
      "\u001b[1;31mNameError\u001b[0m                                 Traceback (most recent call last)",
      "\u001b[1;32m<ipython-input-35-e0bf95704f58>\u001b[0m in \u001b[0;36m<module>\u001b[1;34m\u001b[0m\n\u001b[0;32m      3\u001b[0m     \u001b[1;32mreturn\u001b[0m \u001b[0ma\u001b[0m\u001b[1;33m\u001b[0m\u001b[1;33m\u001b[0m\u001b[0m\n\u001b[0;32m      4\u001b[0m \u001b[1;33m\u001b[0m\u001b[0m\n\u001b[1;32m----> 5\u001b[1;33m \u001b[0mprint\u001b[0m\u001b[1;33m(\u001b[0m\u001b[0ma\u001b[0m\u001b[1;33m)\u001b[0m\u001b[1;33m\u001b[0m\u001b[1;33m\u001b[0m\u001b[0m\n\u001b[0m",
      "\u001b[1;31mNameError\u001b[0m: name 'a' is not defined"
     ]
    }
   ],
   "source": [
    "def sub2():\n",
    "    a = num\n",
    "    return a\n",
    "\n",
    "print(a)"
   ]
  },
  {
   "cell_type": "markdown",
   "metadata": {},
   "source": [
    "### OOP\n",
    "#### Objects and Classes"
   ]
  },
  {
   "cell_type": "code",
   "execution_count": 3,
   "metadata": {},
   "outputs": [],
   "source": [
    "class Car(): #The name of the classes start with the upper case\n",
    "    def __init__(self, model, color, name):\n",
    "        self.model = model\n",
    "        self.color = color\n",
    "        self.name = name\n",
    "    def show(self): #The method/function associated to this Class\n",
    "        print(\"The Car Model is: \", self.model)\n",
    "        #print(\"The Car Color is: \", self.color)\n",
    "        print(\"The Car name is: \", self.name)"
   ]
  },
  {
   "cell_type": "code",
   "execution_count": 7,
   "metadata": {},
   "outputs": [],
   "source": [
    "class Lion():\n",
    "    def __init__(self, color, gender): #The attributes\n",
    "        self.color = color\n",
    "        self.gender = gender\n",
    "    def show(self):  #The method/function associated to this Class\n",
    "        print(\"The color of this Lion is: \", self.color)\n",
    "        print(\"The Gender of this Lion is: \", self.gender)\n",
    "        return"
   ]
  },
  {
   "cell_type": "code",
   "execution_count": 8,
   "metadata": {},
   "outputs": [
    {
     "name": "stdout",
     "output_type": "stream",
     "text": [
      "The color of this Lion is:  Orange\n",
      "The Gender of this Lion is:  Male\n"
     ]
    }
   ],
   "source": [
    "#Create a Lion object\n",
    "OneLion = Lion(\"Orange\", \"Male\")\n",
    "\n",
    "#apply the method associated\n",
    "OneLion.show()"
   ]
  },
  {
   "cell_type": "code",
   "execution_count": 9,
   "metadata": {},
   "outputs": [
    {
     "name": "stdout",
     "output_type": "stream",
     "text": [
      "The color of this Lion is:  DeepBrown\n",
      "The Gender of this Lion is:  Female\n"
     ]
    }
   ],
   "source": [
    "#Create another Lion Object\n",
    "SecondLion = Lion(\"DeepBrown\", \"Female\")\n",
    "\n",
    "#apply the method\n",
    "SecondLion.show()"
   ]
  },
  {
   "cell_type": "code",
   "execution_count": 11,
   "metadata": {},
   "outputs": [
    {
     "data": {
      "text/plain": [
       "__main__.Lion"
      ]
     },
     "execution_count": 11,
     "metadata": {},
     "output_type": "execute_result"
    }
   ],
   "source": [
    "#Examine the class type\n",
    "type(OneLion)"
   ]
  },
  {
   "cell_type": "code",
   "execution_count": 4,
   "metadata": {},
   "outputs": [
    {
     "name": "stdout",
     "output_type": "stream",
     "text": [
      "The Car Model is:  GWagon\n",
      "The Car name is:  Mercedes\n"
     ]
    }
   ],
   "source": [
    "#Create an object from the Class\n",
    "firstcar = Car(\"GWagon\", \"Black\", \"Mercedes\")\n",
    "firstcar.show()"
   ]
  },
  {
   "cell_type": "code",
   "execution_count": 5,
   "metadata": {},
   "outputs": [
    {
     "name": "stdout",
     "output_type": "stream",
     "text": [
      "The Car Model is:  SUV\n",
      "The Car name is:  BWM\n"
     ]
    }
   ],
   "source": [
    "#Another object\n",
    "secondcar = Car(\"SUV\", \"Silver\", \"BWM\")\n",
    "secondcar.show()"
   ]
  },
  {
   "cell_type": "code",
   "execution_count": 6,
   "metadata": {},
   "outputs": [
    {
     "data": {
      "text/plain": [
       "__main__.Car"
      ]
     },
     "execution_count": 6,
     "metadata": {},
     "output_type": "execute_result"
    }
   ],
   "source": [
    "#Check the class\n",
    "type(firstcar)"
   ]
  },
  {
   "cell_type": "code",
   "execution_count": 45,
   "metadata": {},
   "outputs": [
    {
     "name": "stdout",
     "output_type": "stream",
     "text": [
      "The Car Model is:  Gwagon\n",
      "The Car name is:  BMW\n"
     ]
    }
   ],
   "source": [
    "thirdCar = Car(color = \"Blue\", name = \"BMW\", model = \"Gwagon\")\n",
    "thirdCar.show()"
   ]
  },
  {
   "cell_type": "markdown",
   "metadata": {},
   "source": [
    "### Working with Strings\n",
    "#### Split()"
   ]
  },
  {
   "cell_type": "code",
   "execution_count": 46,
   "metadata": {},
   "outputs": [
    {
     "data": {
      "text/plain": [
       "'This is my first attempt to learning Python Programming'"
      ]
     },
     "execution_count": 46,
     "metadata": {},
     "output_type": "execute_result"
    }
   ],
   "source": [
    "sentence = \"This is my first attempt to learning Python Programming\"\n",
    "\n",
    "sentence"
   ]
  },
  {
   "cell_type": "code",
   "execution_count": 49,
   "metadata": {},
   "outputs": [
    {
     "name": "stdout",
     "output_type": "stream",
     "text": [
      "['This', 'is', 'my', 'first', 'attempt', 'to', 'learning', 'Python', 'Programming']\n"
     ]
    }
   ],
   "source": [
    "#The split() function cuts a string at certain position/character and saves the result as a list\n",
    "sentence_list = sentence.split(' ')\n",
    "\n",
    "print(sentence_list)"
   ]
  },
  {
   "cell_type": "code",
   "execution_count": 51,
   "metadata": {},
   "outputs": [
    {
     "data": {
      "text/plain": [
       "['This', 'is', 'my']"
      ]
     },
     "execution_count": 51,
     "metadata": {},
     "output_type": "execute_result"
    }
   ],
   "source": [
    "sentence_list[0:3]"
   ]
  },
  {
   "cell_type": "code",
   "execution_count": 52,
   "metadata": {},
   "outputs": [
    {
     "name": "stdout",
     "output_type": "stream",
     "text": [
      "['https:', '', 'en.wikipedia.org', 'wiki', 'UEFA_Champions_League']\n"
     ]
    }
   ],
   "source": [
    "uefa = \"https://en.wikipedia.org/wiki/UEFA_Champions_League\"\n",
    "\n",
    "url_list = uefa.split('/')\n",
    "print(url_list)"
   ]
  },
  {
   "cell_type": "markdown",
   "metadata": {},
   "source": [
    "### Join()"
   ]
  },
  {
   "cell_type": "code",
   "execution_count": 56,
   "metadata": {},
   "outputs": [
    {
     "name": "stdout",
     "output_type": "stream",
     "text": [
      "This is my first attempt to learning Python Programming\n"
     ]
    }
   ],
   "source": [
    "sentence_list2 = ' '.join(sentence_list)\n",
    "\n",
    "print(sentence_list2)"
   ]
  },
  {
   "cell_type": "code",
   "execution_count": 57,
   "metadata": {},
   "outputs": [
    {
     "name": "stdout",
     "output_type": "stream",
     "text": [
      "https://en.wikipedia.org/wiki/UEFA_Champions_League\n"
     ]
    }
   ],
   "source": [
    "url_list2 = '/'.join(url_list)\n",
    "print(url_list2)"
   ]
  },
  {
   "cell_type": "markdown",
   "metadata": {},
   "source": [
    "### Replace"
   ]
  },
  {
   "cell_type": "code",
   "execution_count": 59,
   "metadata": {},
   "outputs": [
    {
     "name": "stdout",
     "output_type": "stream",
     "text": [
      "This is my first attempt to learning SQL Programming\n"
     ]
    }
   ],
   "source": [
    "sentence = \"This is my first attempt to learning Python Programming\"\n",
    "\n",
    "sentence\n",
    "\n",
    "a = sentence.replace(\"Python\", \"SQL\")\n",
    "\n",
    "print(a)"
   ]
  },
  {
   "cell_type": "code",
   "execution_count": 60,
   "metadata": {},
   "outputs": [
    {
     "name": "stdout",
     "output_type": "stream",
     "text": [
      "This is my first attempt to learning Python Programming\n"
     ]
    }
   ],
   "source": [
    "b = a.replace(\"SQL\", \"Python\")\n",
    "print(b)"
   ]
  },
  {
   "cell_type": "code",
   "execution_count": 61,
   "metadata": {},
   "outputs": [
    {
     "data": {
      "text/plain": [
       "'gnimmargorP nohtyP gninrael ot tpmetta tsrif ym si sihT'"
      ]
     },
     "execution_count": 61,
     "metadata": {},
     "output_type": "execute_result"
    }
   ],
   "source": [
    "sentence[::-1] #how to reverse a string"
   ]
  },
  {
   "cell_type": "code",
   "execution_count": 1,
   "metadata": {},
   "outputs": [],
   "source": [
    "wrd = \"omo\""
   ]
  },
  {
   "cell_type": "code",
   "execution_count": 2,
   "metadata": {},
   "outputs": [
    {
     "data": {
      "text/plain": [
       "'o'"
      ]
     },
     "execution_count": 2,
     "metadata": {},
     "output_type": "execute_result"
    }
   ],
   "source": [
    "\"go\"[-1]"
   ]
  },
  {
   "cell_type": "code",
   "execution_count": 2,
   "metadata": {},
   "outputs": [
    {
     "data": {
      "text/plain": [
       "True"
      ]
     },
     "execution_count": 2,
     "metadata": {},
     "output_type": "execute_result"
    }
   ],
   "source": [
    "wrd[::-1] == wrd"
   ]
  },
  {
   "cell_type": "code",
   "execution_count": 82,
   "metadata": {},
   "outputs": [],
   "source": [
    "#Python function that examines if the first letter of a string is the same as the last letter **bob\n",
    "def checker(a):\n",
    "    a = a.lower()\n",
    "    b = list(a)\n",
    "    if b[0] == b[-1]:\n",
    "        print(\"The first of\", a ,\"word is same as last word\")\n",
    "    else:\n",
    "        print(\"Not the same\")"
   ]
  },
  {
   "cell_type": "code",
   "execution_count": 84,
   "metadata": {},
   "outputs": [
    {
     "name": "stdout",
     "output_type": "stream",
     "text": [
      "Not the same\n"
     ]
    }
   ],
   "source": [
    "checker(\"PPA\")"
   ]
  },
  {
   "cell_type": "code",
   "execution_count": 1,
   "metadata": {},
   "outputs": [],
   "source": [
    "import pandas as pd #import a module(pandas) into python"
   ]
  },
  {
   "cell_type": "code",
   "execution_count": 2,
   "metadata": {},
   "outputs": [
    {
     "name": "stdout",
     "output_type": "stream",
     "text": [
      "     ResellerOrOnline            Name  Month  Year        Revenue\n",
      "0                   0       Australia      5  2013   49824.713775\n",
      "1                   0       Australia      6  2013  134280.982239\n",
      "2                   0       Australia      7  2013  266778.707809\n",
      "3                   0       Australia      8  2013   55341.462000\n",
      "4                   0       Australia      9  2013  124225.104000\n",
      "..                ...             ...    ...   ...            ...\n",
      "547                 1  United Kingdom      2  2014  175784.400000\n",
      "548                 1  United Kingdom      3  2014  188023.700000\n",
      "549                 1  United Kingdom      4  2014  206451.510000\n",
      "550                 1  United Kingdom      5  2014  262427.320000\n",
      "551                 1  United Kingdom      6  2014    4169.950000\n",
      "\n",
      "[552 rows x 5 columns]\n"
     ]
    }
   ],
   "source": [
    "df = pd.read_excel(\"SalesForecast_RawData.xlsx\")\n",
    "\n",
    "#print df\n",
    "print(df)"
   ]
  },
  {
   "cell_type": "code",
   "execution_count": 6,
   "metadata": {},
   "outputs": [
    {
     "data": {
      "text/html": [
       "<div>\n",
       "<style scoped>\n",
       "    .dataframe tbody tr th:only-of-type {\n",
       "        vertical-align: middle;\n",
       "    }\n",
       "\n",
       "    .dataframe tbody tr th {\n",
       "        vertical-align: top;\n",
       "    }\n",
       "\n",
       "    .dataframe thead th {\n",
       "        text-align: right;\n",
       "    }\n",
       "</style>\n",
       "<table border=\"1\" class=\"dataframe\">\n",
       "  <thead>\n",
       "    <tr style=\"text-align: right;\">\n",
       "      <th></th>\n",
       "      <th>ResellerOrOnline</th>\n",
       "      <th>Name</th>\n",
       "      <th>Month</th>\n",
       "      <th>Year</th>\n",
       "      <th>Revenue</th>\n",
       "    </tr>\n",
       "  </thead>\n",
       "  <tbody>\n",
       "    <tr>\n",
       "      <th>0</th>\n",
       "      <td>0</td>\n",
       "      <td>Australia</td>\n",
       "      <td>5</td>\n",
       "      <td>2013</td>\n",
       "      <td>49824.713775</td>\n",
       "    </tr>\n",
       "    <tr>\n",
       "      <th>1</th>\n",
       "      <td>0</td>\n",
       "      <td>Australia</td>\n",
       "      <td>6</td>\n",
       "      <td>2013</td>\n",
       "      <td>134280.982239</td>\n",
       "    </tr>\n",
       "    <tr>\n",
       "      <th>2</th>\n",
       "      <td>0</td>\n",
       "      <td>Australia</td>\n",
       "      <td>7</td>\n",
       "      <td>2013</td>\n",
       "      <td>266778.707809</td>\n",
       "    </tr>\n",
       "    <tr>\n",
       "      <th>3</th>\n",
       "      <td>0</td>\n",
       "      <td>Australia</td>\n",
       "      <td>8</td>\n",
       "      <td>2013</td>\n",
       "      <td>55341.462000</td>\n",
       "    </tr>\n",
       "    <tr>\n",
       "      <th>4</th>\n",
       "      <td>0</td>\n",
       "      <td>Australia</td>\n",
       "      <td>9</td>\n",
       "      <td>2013</td>\n",
       "      <td>124225.104000</td>\n",
       "    </tr>\n",
       "    <tr>\n",
       "      <th>5</th>\n",
       "      <td>0</td>\n",
       "      <td>Australia</td>\n",
       "      <td>10</td>\n",
       "      <td>2013</td>\n",
       "      <td>216979.992566</td>\n",
       "    </tr>\n",
       "    <tr>\n",
       "      <th>6</th>\n",
       "      <td>0</td>\n",
       "      <td>Australia</td>\n",
       "      <td>11</td>\n",
       "      <td>2013</td>\n",
       "      <td>63379.626000</td>\n",
       "    </tr>\n",
       "  </tbody>\n",
       "</table>\n",
       "</div>"
      ],
      "text/plain": [
       "   ResellerOrOnline       Name  Month  Year        Revenue\n",
       "0                 0  Australia      5  2013   49824.713775\n",
       "1                 0  Australia      6  2013  134280.982239\n",
       "2                 0  Australia      7  2013  266778.707809\n",
       "3                 0  Australia      8  2013   55341.462000\n",
       "4                 0  Australia      9  2013  124225.104000\n",
       "5                 0  Australia     10  2013  216979.992566\n",
       "6                 0  Australia     11  2013   63379.626000"
      ]
     },
     "execution_count": 6,
     "metadata": {},
     "output_type": "execute_result"
    }
   ],
   "source": [
    "#head(), helps retrieve n number of values from the top of the dataframe\n",
    "df.head() #by default it extracts the first five values\n",
    "\n",
    "df.head(7)"
   ]
  },
  {
   "cell_type": "code",
   "execution_count": 93,
   "metadata": {},
   "outputs": [
    {
     "data": {
      "text/plain": [
       "'C:\\\\Users\\\\SIMIYOUNG\\\\Desktop\\\\Python 101 Class'"
      ]
     },
     "execution_count": 93,
     "metadata": {},
     "output_type": "execute_result"
    }
   ],
   "source": [
    "pwd # check working directory"
   ]
  },
  {
   "cell_type": "code",
   "execution_count": 96,
   "metadata": {},
   "outputs": [
    {
     "data": {
      "text/html": [
       "<div>\n",
       "<style scoped>\n",
       "    .dataframe tbody tr th:only-of-type {\n",
       "        vertical-align: middle;\n",
       "    }\n",
       "\n",
       "    .dataframe tbody tr th {\n",
       "        vertical-align: top;\n",
       "    }\n",
       "\n",
       "    .dataframe thead th {\n",
       "        text-align: right;\n",
       "    }\n",
       "</style>\n",
       "<table border=\"1\" class=\"dataframe\">\n",
       "  <thead>\n",
       "    <tr style=\"text-align: right;\">\n",
       "      <th></th>\n",
       "      <th>ResellerOrOnline</th>\n",
       "      <th>Name</th>\n",
       "      <th>Month</th>\n",
       "      <th>Year</th>\n",
       "      <th>Revenue</th>\n",
       "    </tr>\n",
       "  </thead>\n",
       "  <tbody>\n",
       "    <tr>\n",
       "      <th>550</th>\n",
       "      <td>1</td>\n",
       "      <td>United Kingdom</td>\n",
       "      <td>5</td>\n",
       "      <td>2014</td>\n",
       "      <td>262427.32</td>\n",
       "    </tr>\n",
       "    <tr>\n",
       "      <th>551</th>\n",
       "      <td>1</td>\n",
       "      <td>United Kingdom</td>\n",
       "      <td>6</td>\n",
       "      <td>2014</td>\n",
       "      <td>4169.95</td>\n",
       "    </tr>\n",
       "  </tbody>\n",
       "</table>\n",
       "</div>"
      ],
      "text/plain": [
       "     ResellerOrOnline            Name  Month  Year    Revenue\n",
       "550                 1  United Kingdom      5  2014  262427.32\n",
       "551                 1  United Kingdom      6  2014    4169.95"
      ]
     },
     "execution_count": 96,
     "metadata": {},
     "output_type": "execute_result"
    }
   ],
   "source": [
    "#tail(), helps retrieve n number of values from the bottom of the dataframe\n",
    "df.tail(2)"
   ]
  },
  {
   "cell_type": "code",
   "execution_count": 97,
   "metadata": {},
   "outputs": [
    {
     "data": {
      "text/plain": [
       "Index(['ResellerOrOnline', 'Name', 'Month', 'Year', 'Revenue'], dtype='object')"
      ]
     },
     "execution_count": 97,
     "metadata": {},
     "output_type": "execute_result"
    }
   ],
   "source": [
    "#examine all the column names\n",
    "df.columns"
   ]
  },
  {
   "cell_type": "code",
   "execution_count": 98,
   "metadata": {},
   "outputs": [
    {
     "data": {
      "text/plain": [
       "(552, 5)"
      ]
     },
     "execution_count": 98,
     "metadata": {},
     "output_type": "execute_result"
    }
   ],
   "source": [
    "#examine the dimension of your data\n",
    "df.shape #rows, columns"
   ]
  },
  {
   "cell_type": "code",
   "execution_count": 99,
   "metadata": {},
   "outputs": [
    {
     "data": {
      "text/plain": [
       "ResellerOrOnline      2\n",
       "Name                 10\n",
       "Month                12\n",
       "Year                  4\n",
       "Revenue             543\n",
       "dtype: int64"
      ]
     },
     "execution_count": 99,
     "metadata": {},
     "output_type": "execute_result"
    }
   ],
   "source": [
    "#examine the unique values in all the columns\n",
    "df.nunique()"
   ]
  },
  {
   "cell_type": "code",
   "execution_count": 3,
   "metadata": {},
   "outputs": [
    {
     "data": {
      "text/html": [
       "<div>\n",
       "<style scoped>\n",
       "    .dataframe tbody tr th:only-of-type {\n",
       "        vertical-align: middle;\n",
       "    }\n",
       "\n",
       "    .dataframe tbody tr th {\n",
       "        vertical-align: top;\n",
       "    }\n",
       "\n",
       "    .dataframe thead th {\n",
       "        text-align: right;\n",
       "    }\n",
       "</style>\n",
       "<table border=\"1\" class=\"dataframe\">\n",
       "  <thead>\n",
       "    <tr style=\"text-align: right;\">\n",
       "      <th></th>\n",
       "      <th>ResellerOrOnline</th>\n",
       "      <th>Month</th>\n",
       "      <th>Year</th>\n",
       "      <th>Revenue</th>\n",
       "    </tr>\n",
       "  </thead>\n",
       "  <tbody>\n",
       "    <tr>\n",
       "      <th>count</th>\n",
       "      <td>552.00</td>\n",
       "      <td>552.00</td>\n",
       "      <td>552.00</td>\n",
       "      <td>552.00</td>\n",
       "    </tr>\n",
       "    <tr>\n",
       "      <th>mean</th>\n",
       "      <td>0.53</td>\n",
       "      <td>6.49</td>\n",
       "      <td>2012.53</td>\n",
       "      <td>198952.81</td>\n",
       "    </tr>\n",
       "    <tr>\n",
       "      <th>std</th>\n",
       "      <td>0.50</td>\n",
       "      <td>3.40</td>\n",
       "      <td>0.93</td>\n",
       "      <td>193588.45</td>\n",
       "    </tr>\n",
       "    <tr>\n",
       "      <th>min</th>\n",
       "      <td>0.00</td>\n",
       "      <td>1.00</td>\n",
       "      <td>2011.00</td>\n",
       "      <td>7.28</td>\n",
       "    </tr>\n",
       "    <tr>\n",
       "      <th>25%</th>\n",
       "      <td>0.00</td>\n",
       "      <td>4.00</td>\n",
       "      <td>2012.00</td>\n",
       "      <td>55358.95</td>\n",
       "    </tr>\n",
       "    <tr>\n",
       "      <th>50%</th>\n",
       "      <td>1.00</td>\n",
       "      <td>6.00</td>\n",
       "      <td>2013.00</td>\n",
       "      <td>146106.34</td>\n",
       "    </tr>\n",
       "    <tr>\n",
       "      <th>75%</th>\n",
       "      <td>1.00</td>\n",
       "      <td>9.00</td>\n",
       "      <td>2013.00</td>\n",
       "      <td>266892.10</td>\n",
       "    </tr>\n",
       "    <tr>\n",
       "      <th>max</th>\n",
       "      <td>1.00</td>\n",
       "      <td>12.00</td>\n",
       "      <td>2014.00</td>\n",
       "      <td>1142686.24</td>\n",
       "    </tr>\n",
       "  </tbody>\n",
       "</table>\n",
       "</div>"
      ],
      "text/plain": [
       "       ResellerOrOnline   Month     Year     Revenue\n",
       "count            552.00  552.00   552.00      552.00\n",
       "mean               0.53    6.49  2012.53   198952.81\n",
       "std                0.50    3.40     0.93   193588.45\n",
       "min                0.00    1.00  2011.00        7.28\n",
       "25%                0.00    4.00  2012.00    55358.95\n",
       "50%                1.00    6.00  2013.00   146106.34\n",
       "75%                1.00    9.00  2013.00   266892.10\n",
       "max                1.00   12.00  2014.00  1142686.24"
      ]
     },
     "execution_count": 3,
     "metadata": {},
     "output_type": "execute_result"
    }
   ],
   "source": [
    "#Summarise a dataframe\n",
    "round(df.describe(), 2)"
   ]
  },
  {
   "cell_type": "code",
   "execution_count": 103,
   "metadata": {},
   "outputs": [
    {
     "data": {
      "text/html": [
       "<div>\n",
       "<style scoped>\n",
       "    .dataframe tbody tr th:only-of-type {\n",
       "        vertical-align: middle;\n",
       "    }\n",
       "\n",
       "    .dataframe tbody tr th {\n",
       "        vertical-align: top;\n",
       "    }\n",
       "\n",
       "    .dataframe thead th {\n",
       "        text-align: right;\n",
       "    }\n",
       "</style>\n",
       "<table border=\"1\" class=\"dataframe\">\n",
       "  <thead>\n",
       "    <tr style=\"text-align: right;\">\n",
       "      <th></th>\n",
       "      <th>ResellerOrOnline</th>\n",
       "      <th>Year</th>\n",
       "      <th>Month</th>\n",
       "    </tr>\n",
       "  </thead>\n",
       "  <tbody>\n",
       "    <tr>\n",
       "      <th>0</th>\n",
       "      <td>0</td>\n",
       "      <td>2013</td>\n",
       "      <td>5</td>\n",
       "    </tr>\n",
       "    <tr>\n",
       "      <th>1</th>\n",
       "      <td>0</td>\n",
       "      <td>2013</td>\n",
       "      <td>6</td>\n",
       "    </tr>\n",
       "    <tr>\n",
       "      <th>2</th>\n",
       "      <td>0</td>\n",
       "      <td>2013</td>\n",
       "      <td>7</td>\n",
       "    </tr>\n",
       "    <tr>\n",
       "      <th>3</th>\n",
       "      <td>0</td>\n",
       "      <td>2013</td>\n",
       "      <td>8</td>\n",
       "    </tr>\n",
       "    <tr>\n",
       "      <th>4</th>\n",
       "      <td>0</td>\n",
       "      <td>2013</td>\n",
       "      <td>9</td>\n",
       "    </tr>\n",
       "  </tbody>\n",
       "</table>\n",
       "</div>"
      ],
      "text/plain": [
       "   ResellerOrOnline  Year  Month\n",
       "0                 0  2013      5\n",
       "1                 0  2013      6\n",
       "2                 0  2013      7\n",
       "3                 0  2013      8\n",
       "4                 0  2013      9"
      ]
     },
     "execution_count": 103,
     "metadata": {},
     "output_type": "execute_result"
    }
   ],
   "source": [
    "#Extracting specific columns\n",
    "df[[\"ResellerOrOnline\", \"Year\", \"Month\"]].head()"
   ]
  },
  {
   "cell_type": "code",
   "execution_count": 106,
   "metadata": {},
   "outputs": [
    {
     "data": {
      "text/plain": [
       "Revenue    1.142686e+06\n",
       "dtype: float64"
      ]
     },
     "execution_count": 106,
     "metadata": {},
     "output_type": "execute_result"
    }
   ],
   "source": [
    "a= df[[\"Revenue\"]].mean()\n",
    " \n",
    "b= df[[\"Revenue\"]].min()\n",
    "\n",
    "c= df[[\"Revenue\"]].max()"
   ]
  },
  {
   "cell_type": "markdown",
   "metadata": {},
   "source": [
    "#### Assignment: Write a Python function, that returns the mean, min, max of revenue from the dataframe df"
   ]
  },
  {
   "cell_type": "code",
   "execution_count": null,
   "metadata": {},
   "outputs": [],
   "source": []
  },
  {
   "cell_type": "markdown",
   "metadata": {},
   "source": [
    "#### Write a Python Program that prompts students for their scores and tells them their grade\n",
    "\n",
    "> 70 - A\n",
    "64 to 69 - B\n",
    "63 to 55 - C\n",
    "54 to 45 - D\n",
    "< 40     - E"
   ]
  },
  {
   "cell_type": "code",
   "execution_count": null,
   "metadata": {},
   "outputs": [],
   "source": [
    "score = int(input(\"Input your score: \"))\n",
    "\n",
    "#check your working directory\n",
    "if score >= 70:\n",
    "    print(\"You got an A\")\n",
    "elif score >= 64:\n",
    "    print(\"You got a B\")\n",
    "elif score >= 55:\n",
    "    print(\"You got a C\")\n",
    "elif score >= 45:\n",
    "    print(\"You got a D\")\n",
    "else:\n",
    "    print(\"You got an F\")"
   ]
  }
 ],
 "metadata": {
  "kernelspec": {
   "display_name": "Python 3",
   "language": "python",
   "name": "python3"
  },
  "language_info": {
   "codemirror_mode": {
    "name": "ipython",
    "version": 3
   },
   "file_extension": ".py",
   "mimetype": "text/x-python",
   "name": "python",
   "nbconvert_exporter": "python",
   "pygments_lexer": "ipython3",
   "version": "3.8.5"
  }
 },
 "nbformat": 4,
 "nbformat_minor": 2
}
