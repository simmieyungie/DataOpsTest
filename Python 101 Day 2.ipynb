{
 "cells": [
  {
   "cell_type": "markdown",
   "metadata": {},
   "source": [
    "### Data Structures\n",
    "\n",
    "### Lists"
   ]
  },
  {
   "cell_type": "code",
   "execution_count": 2,
   "metadata": {},
   "outputs": [
    {
     "name": "stdout",
     "output_type": "stream",
     "text": [
      "['Simi', 'Blue', 'Business Consultant', 'Pairview']\n"
     ]
    }
   ],
   "source": [
    "#How to create a list\n",
    "MyFirstList = [\"Simi\", \"Blue\", \"Business Consultant\", \"Pairview\"] #A list is created with a square bracket\n",
    "\n",
    "print(MyFirstList)"
   ]
  },
  {
   "cell_type": "markdown",
   "metadata": {},
   "source": [
    "#### Assignment: Create a list containing the numbers 1 - 10 and then print it out"
   ]
  },
  {
   "cell_type": "code",
   "execution_count": 3,
   "metadata": {},
   "outputs": [
    {
     "name": "stdout",
     "output_type": "stream",
     "text": [
      "[1, 2, 3, 4, 5, 6, 7, 8, 9, 10]\n"
     ]
    },
    {
     "data": {
      "text/plain": [
       "55"
      ]
     },
     "execution_count": 3,
     "metadata": {},
     "output_type": "execute_result"
    }
   ],
   "source": [
    "MyNumbers = [1,2,3,4,5,6,7,8,9,10]\n",
    "\n",
    "print(MyNumbers)\n",
    "\n",
    "sum(MyNumbers)"
   ]
  },
  {
   "cell_type": "code",
   "execution_count": 4,
   "metadata": {},
   "outputs": [
    {
     "ename": "TypeError",
     "evalue": "unsupported operand type(s) for +: 'int' and 'str'",
     "output_type": "error",
     "traceback": [
      "\u001b[1;31m---------------------------------------------------------------------------\u001b[0m",
      "\u001b[1;31mTypeError\u001b[0m                                 Traceback (most recent call last)",
      "\u001b[1;32m<ipython-input-4-940044a24b36>\u001b[0m in \u001b[0;36m<module>\u001b[1;34m\u001b[0m\n\u001b[1;32m----> 1\u001b[1;33m \u001b[0msum\u001b[0m\u001b[1;33m(\u001b[0m\u001b[1;33m[\u001b[0m\u001b[1;34m\"1\"\u001b[0m\u001b[1;33m,\u001b[0m \u001b[1;34m\"2\"\u001b[0m\u001b[1;33m]\u001b[0m\u001b[1;33m)\u001b[0m\u001b[1;33m\u001b[0m\u001b[1;33m\u001b[0m\u001b[0m\n\u001b[0m",
      "\u001b[1;31mTypeError\u001b[0m: unsupported operand type(s) for +: 'int' and 'str'"
     ]
    }
   ],
   "source": [
    "sum([\"1\", \"2\"])"
   ]
  },
  {
   "cell_type": "code",
   "execution_count": 2,
   "metadata": {},
   "outputs": [
    {
     "ename": "TypeError",
     "evalue": "can only concatenate str (not \"int\") to str",
     "output_type": "error",
     "traceback": [
      "\u001b[1;31m---------------------------------------------------------------------------\u001b[0m",
      "\u001b[1;31mTypeError\u001b[0m                                 Traceback (most recent call last)",
      "\u001b[1;32m<ipython-input-2-7bbfd4ac6153>\u001b[0m in \u001b[0;36m<module>\u001b[1;34m\u001b[0m\n\u001b[0;32m      1\u001b[0m \u001b[0ma\u001b[0m \u001b[1;33m=\u001b[0m \u001b[1;34m\"2\"\u001b[0m\u001b[1;33m\u001b[0m\u001b[1;33m\u001b[0m\u001b[0m\n\u001b[0;32m      2\u001b[0m \u001b[1;33m\u001b[0m\u001b[0m\n\u001b[1;32m----> 3\u001b[1;33m \u001b[0ma\u001b[0m \u001b[1;33m+\u001b[0m \u001b[1;36m2\u001b[0m\u001b[1;33m\u001b[0m\u001b[1;33m\u001b[0m\u001b[0m\n\u001b[0m",
      "\u001b[1;31mTypeError\u001b[0m: can only concatenate str (not \"int\") to str"
     ]
    }
   ],
   "source": [
    "a = \"2\"\n",
    "\n",
    "a + 2"
   ]
  },
  {
   "cell_type": "markdown",
   "metadata": {},
   "source": [
    "### Indexing is all about accessing values in a specific position\n",
    "\n",
    "#### Indexing is done with Square brackets[]"
   ]
  },
  {
   "cell_type": "code",
   "execution_count": 6,
   "metadata": {},
   "outputs": [
    {
     "data": {
      "text/plain": [
       "10"
      ]
     },
     "execution_count": 6,
     "metadata": {},
     "output_type": "execute_result"
    }
   ],
   "source": [
    "MyNumbers[0] #Extract the first number inside MyNumbers list\n",
    "\n",
    "MyNumbers[9]"
   ]
  },
  {
   "cell_type": "code",
   "execution_count": 8,
   "metadata": {},
   "outputs": [
    {
     "data": {
      "text/plain": [
       "[1, 2, 3]"
      ]
     },
     "execution_count": 8,
     "metadata": {},
     "output_type": "execute_result"
    }
   ],
   "source": [
    "MyNumbers[0:3] #The upper band in the range is left out"
   ]
  },
  {
   "cell_type": "markdown",
   "metadata": {},
   "source": [
    "#### Assignment; Extract the last 4 values inside of the variable MyNumbers"
   ]
  },
  {
   "cell_type": "code",
   "execution_count": 11,
   "metadata": {},
   "outputs": [
    {
     "data": {
      "text/plain": [
       "[7, 8, 9, 10]"
      ]
     },
     "execution_count": 11,
     "metadata": {},
     "output_type": "execute_result"
    }
   ],
   "source": [
    "MyNumbers[6:10]"
   ]
  },
  {
   "cell_type": "code",
   "execution_count": 23,
   "metadata": {},
   "outputs": [
    {
     "name": "stdout",
     "output_type": "stream",
     "text": [
      "['Blue', 'Red', 'Brown', 'White', 'Pink']\n"
     ]
    }
   ],
   "source": [
    "#create a  list of different colors\n",
    "MyColors = [\"Blue\", \"Red\", \"Brown\", \"White\", \"Pink\"]\n",
    "\n",
    "print(MyColors)"
   ]
  },
  {
   "cell_type": "code",
   "execution_count": 17,
   "metadata": {},
   "outputs": [
    {
     "data": {
      "text/plain": [
       "True"
      ]
     },
     "execution_count": 17,
     "metadata": {},
     "output_type": "execute_result"
    }
   ],
   "source": [
    "\"White\" in MyColors #Check for existence of values in a list"
   ]
  },
  {
   "cell_type": "code",
   "execution_count": 19,
   "metadata": {},
   "outputs": [
    {
     "data": {
      "text/plain": [
       "False"
      ]
     },
     "execution_count": 19,
     "metadata": {},
     "output_type": "execute_result"
    }
   ],
   "source": [
    "11 in MyNumbers #Check for existence 11 in MyNumbers"
   ]
  },
  {
   "cell_type": "code",
   "execution_count": 24,
   "metadata": {},
   "outputs": [],
   "source": [
    "MyColors[4] = \"Purple\" #update records inside of a list"
   ]
  },
  {
   "cell_type": "code",
   "execution_count": 25,
   "metadata": {},
   "outputs": [
    {
     "name": "stdout",
     "output_type": "stream",
     "text": [
      "['Blue', 'Red', 'Brown', 'White', 'Purple']\n"
     ]
    }
   ],
   "source": [
    "print(MyColors)"
   ]
  },
  {
   "cell_type": "code",
   "execution_count": 27,
   "metadata": {},
   "outputs": [
    {
     "data": {
      "text/plain": [
       "True"
      ]
     },
     "execution_count": 27,
     "metadata": {},
     "output_type": "execute_result"
    }
   ],
   "source": [
    "\"Purple\" in MyColors"
   ]
  },
  {
   "cell_type": "code",
   "execution_count": 46,
   "metadata": {},
   "outputs": [
    {
     "name": "stdout",
     "output_type": "stream",
     "text": [
      "['Blue', 'Red', 'Brown', 'White', 'Pink']\n"
     ]
    }
   ],
   "source": [
    "#create a  list of different colors\n",
    "MyColors = [\"Blue\", \"Red\", \"Brown\", \"White\", \"Pink\"]\n",
    "\n",
    "print(MyColors)"
   ]
  },
  {
   "cell_type": "markdown",
   "metadata": {},
   "source": [
    "#### Assignment; Replace Blue with Black and Red with Gold inside of MyColors list"
   ]
  },
  {
   "cell_type": "code",
   "execution_count": 47,
   "metadata": {},
   "outputs": [
    {
     "name": "stdout",
     "output_type": "stream",
     "text": [
      "['Black', 'Gold', 'Brown', 'White', 'Pink']\n"
     ]
    }
   ],
   "source": [
    "MyColors[0] = \"Black\" #Blue to Black\n",
    "\n",
    "MyColors[1] = \"Gold\"\n",
    "\n",
    "print(MyColors)"
   ]
  },
  {
   "cell_type": "code",
   "execution_count": 40,
   "metadata": {},
   "outputs": [],
   "source": [
    "MyColors[0:2] = [\"Black\",\"Gold\"]"
   ]
  },
  {
   "cell_type": "code",
   "execution_count": 48,
   "metadata": {},
   "outputs": [
    {
     "name": "stdout",
     "output_type": "stream",
     "text": [
      "['Black', 'Gold', 'Brown', 'White', 'Pink']\n"
     ]
    }
   ],
   "source": [
    "print(MyColors)"
   ]
  },
  {
   "cell_type": "code",
   "execution_count": 49,
   "metadata": {},
   "outputs": [],
   "source": [
    "del MyColors[0] #deleting contents of a list"
   ]
  },
  {
   "cell_type": "code",
   "execution_count": 50,
   "metadata": {},
   "outputs": [
    {
     "name": "stdout",
     "output_type": "stream",
     "text": [
      "['Gold', 'Brown', 'White', 'Pink']\n"
     ]
    }
   ],
   "source": [
    "print(MyColors)"
   ]
  },
  {
   "cell_type": "code",
   "execution_count": 51,
   "metadata": {},
   "outputs": [],
   "source": [
    "del MyColors #deleting an entire list"
   ]
  },
  {
   "cell_type": "code",
   "execution_count": 52,
   "metadata": {},
   "outputs": [
    {
     "ename": "NameError",
     "evalue": "name 'MyColors' is not defined",
     "output_type": "error",
     "traceback": [
      "\u001b[1;31m---------------------------------------------------------------------------\u001b[0m",
      "\u001b[1;31mNameError\u001b[0m                                 Traceback (most recent call last)",
      "\u001b[1;32m<ipython-input-52-6fe89affd4ff>\u001b[0m in \u001b[0;36m<module>\u001b[1;34m\u001b[0m\n\u001b[1;32m----> 1\u001b[1;33m \u001b[0mprint\u001b[0m\u001b[1;33m(\u001b[0m\u001b[0mMyColors\u001b[0m\u001b[1;33m)\u001b[0m\u001b[1;33m\u001b[0m\u001b[1;33m\u001b[0m\u001b[0m\n\u001b[0m",
      "\u001b[1;31mNameError\u001b[0m: name 'MyColors' is not defined"
     ]
    }
   ],
   "source": [
    "print(MyColors)"
   ]
  },
  {
   "cell_type": "code",
   "execution_count": 70,
   "metadata": {},
   "outputs": [
    {
     "name": "stdout",
     "output_type": "stream",
     "text": [
      "[1, 2, 3, 4, 5, 6, 7, 8, 9, 10]\n"
     ]
    }
   ],
   "source": [
    "MyNumbers = [1,2,3,4,5,6,7,8,9,10]\n",
    "\n",
    "print(MyNumbers)"
   ]
  },
  {
   "cell_type": "code",
   "execution_count": 71,
   "metadata": {},
   "outputs": [
    {
     "name": "stdout",
     "output_type": "stream",
     "text": [
      "10\n",
      "10\n",
      "1\n"
     ]
    }
   ],
   "source": [
    "#Common functions in a list\n",
    "print(len(MyNumbers)) #using len function\n",
    "\n",
    "print(max(MyNumbers))\n",
    "\n",
    "print(min(MyNumbers))"
   ]
  },
  {
   "cell_type": "code",
   "execution_count": 72,
   "metadata": {},
   "outputs": [],
   "source": [
    "MyNumbers.append(11) #add objects to a list"
   ]
  },
  {
   "cell_type": "code",
   "execution_count": 73,
   "metadata": {},
   "outputs": [
    {
     "name": "stdout",
     "output_type": "stream",
     "text": [
      "[1, 2, 3, 4, 5, 6, 7, 8, 9, 10, 11]\n"
     ]
    }
   ],
   "source": [
    "print(MyNumbers)"
   ]
  },
  {
   "cell_type": "code",
   "execution_count": 76,
   "metadata": {},
   "outputs": [],
   "source": [
    "MyNumbers.remove(11) #remove objects from a list"
   ]
  },
  {
   "cell_type": "code",
   "execution_count": 77,
   "metadata": {},
   "outputs": [
    {
     "name": "stdout",
     "output_type": "stream",
     "text": [
      "[1, 2, 3, 4, 5, 6, 7, 8, 9, 10]\n"
     ]
    }
   ],
   "source": [
    "print(MyNumbers)"
   ]
  },
  {
   "cell_type": "code",
   "execution_count": 83,
   "metadata": {},
   "outputs": [],
   "source": [
    "MyNumbers.sort(reverse = True) #reverse = False means ascending and True means descending order"
   ]
  },
  {
   "cell_type": "code",
   "execution_count": 84,
   "metadata": {},
   "outputs": [
    {
     "name": "stdout",
     "output_type": "stream",
     "text": [
      "[10, 9, 8, 7, 6, 5, 4, 3, 2, 1]\n"
     ]
    }
   ],
   "source": [
    "print(MyNumbers)"
   ]
  },
  {
   "cell_type": "code",
   "execution_count": 87,
   "metadata": {},
   "outputs": [
    {
     "data": {
      "text/plain": [
       "list"
      ]
     },
     "execution_count": 87,
     "metadata": {},
     "output_type": "execute_result"
    }
   ],
   "source": [
    "type(MyNumbers)"
   ]
  },
  {
   "cell_type": "markdown",
   "metadata": {},
   "source": [
    "### Tuples\n",
    "\n",
    "1. They are created with round brackets ()\n",
    "2. They are immutable: You can't alter existing contents of a tuple"
   ]
  },
  {
   "cell_type": "code",
   "execution_count": 2,
   "metadata": {},
   "outputs": [
    {
     "data": {
      "text/plain": [
       "tuple"
      ]
     },
     "execution_count": 2,
     "metadata": {},
     "output_type": "execute_result"
    }
   ],
   "source": [
    "MyTuple = (1,2,3,4)\n",
    "\n",
    "type(MyTuple) #the type function helps you check your data type"
   ]
  },
  {
   "cell_type": "code",
   "execution_count": 3,
   "metadata": {},
   "outputs": [
    {
     "ename": "AttributeError",
     "evalue": "'tuple' object has no attribute 'sort'",
     "output_type": "error",
     "traceback": [
      "\u001b[1;31m---------------------------------------------------------------------------\u001b[0m",
      "\u001b[1;31mAttributeError\u001b[0m                            Traceback (most recent call last)",
      "\u001b[1;32m<ipython-input-3-3594fda26eaa>\u001b[0m in \u001b[0;36m<module>\u001b[1;34m\u001b[0m\n\u001b[1;32m----> 1\u001b[1;33m \u001b[0mMyTuple\u001b[0m\u001b[1;33m.\u001b[0m\u001b[0msort\u001b[0m\u001b[1;33m(\u001b[0m\u001b[1;33m)\u001b[0m\u001b[1;33m\u001b[0m\u001b[1;33m\u001b[0m\u001b[0m\n\u001b[0m",
      "\u001b[1;31mAttributeError\u001b[0m: 'tuple' object has no attribute 'sort'"
     ]
    }
   ],
   "source": [
    "MyTuple.sort()"
   ]
  },
  {
   "cell_type": "code",
   "execution_count": 2,
   "metadata": {},
   "outputs": [
    {
     "ename": "TypeError",
     "evalue": "'tuple' object doesn't support item deletion",
     "output_type": "error",
     "traceback": [
      "\u001b[1;31m---------------------------------------------------------------------------\u001b[0m",
      "\u001b[1;31mTypeError\u001b[0m                                 Traceback (most recent call last)",
      "\u001b[1;32m<ipython-input-2-f28576d829a0>\u001b[0m in \u001b[0;36m<module>\u001b[1;34m\u001b[0m\n\u001b[1;32m----> 1\u001b[1;33m \u001b[1;32mdel\u001b[0m \u001b[0mMyTuple\u001b[0m\u001b[1;33m[\u001b[0m\u001b[1;36m1\u001b[0m\u001b[1;33m]\u001b[0m\u001b[1;33m\u001b[0m\u001b[1;33m\u001b[0m\u001b[0m\n\u001b[0m",
      "\u001b[1;31mTypeError\u001b[0m: 'tuple' object doesn't support item deletion"
     ]
    }
   ],
   "source": [
    "del MyTuple[1]"
   ]
  },
  {
   "cell_type": "code",
   "execution_count": 90,
   "metadata": {},
   "outputs": [
    {
     "ename": "TypeError",
     "evalue": "'tuple' object does not support item assignment",
     "output_type": "error",
     "traceback": [
      "\u001b[1;31m---------------------------------------------------------------------------\u001b[0m",
      "\u001b[1;31mTypeError\u001b[0m                                 Traceback (most recent call last)",
      "\u001b[1;32m<ipython-input-90-2f1ab803c6ff>\u001b[0m in \u001b[0;36m<module>\u001b[1;34m\u001b[0m\n\u001b[1;32m----> 1\u001b[1;33m \u001b[0mMyTuple\u001b[0m\u001b[1;33m[\u001b[0m\u001b[1;36m3\u001b[0m\u001b[1;33m]\u001b[0m \u001b[1;33m=\u001b[0m \u001b[1;36m10\u001b[0m\u001b[1;33m\u001b[0m\u001b[1;33m\u001b[0m\u001b[0m\n\u001b[0m",
      "\u001b[1;31mTypeError\u001b[0m: 'tuple' object does not support item assignment"
     ]
    }
   ],
   "source": [
    "MyTuple[3] = 10"
   ]
  },
  {
   "cell_type": "markdown",
   "metadata": {},
   "source": [
    "#### Assignment: Create a List containing any 10 random numbers and then sum the Minimum value with the Maximum value and then multiply by the actual length of the list itself"
   ]
  },
  {
   "cell_type": "code",
   "execution_count": 95,
   "metadata": {},
   "outputs": [
    {
     "data": {
      "text/plain": [
       "210"
      ]
     },
     "execution_count": 95,
     "metadata": {},
     "output_type": "execute_result"
    }
   ],
   "source": [
    "MyList = [3,7,8,18,19,14,1,3, 10, 20]\n",
    "\n",
    "(min(MyList) + max(MyList)) * len(MyList)"
   ]
  },
  {
   "cell_type": "markdown",
   "metadata": {},
   "source": [
    "### Dictionaries"
   ]
  },
  {
   "cell_type": "code",
   "execution_count": 101,
   "metadata": {},
   "outputs": [
    {
     "name": "stdout",
     "output_type": "stream",
     "text": [
      "{'FirstName': 'Simi', 'LastName': 'Business Consultant', 'Occupation': 'Business Consultant'}\n"
     ]
    }
   ],
   "source": [
    "MyDict = {\"FirstName\" : \"Simi\", \"LastName\" : \"Adeboye\", \"Occupation\" : \"Business Consultant\"}\n",
    "\n",
    "print(MyDict)"
   ]
  },
  {
   "cell_type": "code",
   "execution_count": 103,
   "metadata": {},
   "outputs": [
    {
     "data": {
      "text/plain": [
       "'Business Consultant'"
      ]
     },
     "execution_count": 103,
     "metadata": {},
     "output_type": "execute_result"
    }
   ],
   "source": [
    "MyDict[\"LastName\"] #access the values inside of a dictionary"
   ]
  },
  {
   "cell_type": "code",
   "execution_count": 107,
   "metadata": {},
   "outputs": [],
   "source": [
    "MyDict[\"Email\"]  = \"sadeboye@pairview.co.uk\"  #update with email"
   ]
  },
  {
   "cell_type": "code",
   "execution_count": 108,
   "metadata": {},
   "outputs": [
    {
     "name": "stdout",
     "output_type": "stream",
     "text": [
      "{'FirstName': 'Simi', 'LastName': 'Business Consultant', 'Occupation': 'Business Consultant', 'Email': 'sadeboye@pairview.co.uk'}\n"
     ]
    }
   ],
   "source": [
    "print(MyDict)"
   ]
  },
  {
   "cell_type": "code",
   "execution_count": 106,
   "metadata": {},
   "outputs": [
    {
     "name": "stdout",
     "output_type": "stream",
     "text": [
      "{'FirstName': 'Simi', 'LastName': 'Business Consultant', 'Occupation': 'Business Consultant'}\n"
     ]
    }
   ],
   "source": [
    "del MyDict[\"Email\"]\n",
    "\n",
    "print(MyDict)"
   ]
  },
  {
   "cell_type": "code",
   "execution_count": 110,
   "metadata": {},
   "outputs": [
    {
     "name": "stdout",
     "output_type": "stream",
     "text": [
      "{'FirstName': 'Simi', 'LastName': 'Business Consultant', 'Occupation': 'Business Consultant', 'Email': 'sadeboye@pairview.co.uk'}\n"
     ]
    },
    {
     "data": {
      "text/plain": [
       "4"
      ]
     },
     "execution_count": 110,
     "metadata": {},
     "output_type": "execute_result"
    }
   ],
   "source": [
    "#Common functions associated with dictionaries\n",
    "print(MyDict)\n",
    "\n",
    "len(MyDict)"
   ]
  },
  {
   "cell_type": "code",
   "execution_count": 112,
   "metadata": {},
   "outputs": [
    {
     "data": {
      "text/plain": [
       "'Simi'"
      ]
     },
     "execution_count": 112,
     "metadata": {},
     "output_type": "execute_result"
    }
   ],
   "source": [
    "MyDict.get(\"FirstName\") #gets value associated with a key"
   ]
  },
  {
   "cell_type": "markdown",
   "metadata": {},
   "source": [
    "#### Write a python program thar prompts users for the month and returns the number of days inside that month"
   ]
  },
  {
   "cell_type": "code",
   "execution_count": 116,
   "metadata": {},
   "outputs": [
    {
     "name": "stdout",
     "output_type": "stream",
     "text": [
      "Input a month: December\n",
      "December has 31 days\n"
     ]
    }
   ],
   "source": [
    "MyMonth = {\"January\" : 31,\n",
    "           \"February\" : \"28 (29 in leap years)\",\n",
    "           \"March\" : 31,\n",
    "           \"April\" : 30,\n",
    "           \"May\" : 31,\n",
    "           \"June\" : 30,\n",
    "           \"July\" : 31,\n",
    "           \"August\" : 31,\n",
    "           \"September\" : 30,\n",
    "           \"October\" : 31,\n",
    "           \"November\" : 30,\n",
    "           \"December\" : 31}\n",
    "\n",
    "UserPrompt = input(\"Input a month: \") #prompt user for a month\n",
    "\n",
    "print(UserPrompt, \"has\", MyMonth[UserPrompt], \"days\")"
   ]
  },
  {
   "cell_type": "markdown",
   "metadata": {},
   "source": [
    "#### Write a Python program that prompts users for a country and returns the capital for the Following Countries\n",
    "\n",
    "- Argentina - Buenos Aires\n",
    "- USA - Washinghton, D.C.\n",
    "- UK - London\n",
    "- United Arab Emirates - Abu Dhabi\n",
    "- Nigeria - Abuja\n"
   ]
  },
  {
   "cell_type": "code",
   "execution_count": 117,
   "metadata": {},
   "outputs": [
    {
     "name": "stdout",
     "output_type": "stream",
     "text": [
      "Input a Country: Argentina\n",
      "The Capital of Argentina is Buenos Aires\n"
     ]
    }
   ],
   "source": [
    "MyCountries = {\"Argentina\" : \"Buenos Aires\",\n",
    "               \"USA\" : \"Washinghton, D.C\",\n",
    "               \"UK\" : \"London\",\n",
    "               \"United Arab Emirates\" : \"Abu Dhabi\",\n",
    "               \"Nigeria\" : \"Abuja\"}\n",
    "\n",
    "UserPrompt = input(\"Input a Country: \")\n",
    "\n",
    "print(\"The Capital of\", UserPrompt, \"is\", MyCountries[UserPrompt])"
   ]
  },
  {
   "cell_type": "markdown",
   "metadata": {},
   "source": [
    "### Loops \n",
    "\n",
    "#### While Loop"
   ]
  },
  {
   "cell_type": "code",
   "execution_count": 123,
   "metadata": {},
   "outputs": [
    {
     "name": "stdout",
     "output_type": "stream",
     "text": [
      "10 is less than 15\n",
      "11 is less than 15\n",
      "12 is less than 15\n",
      "13 is less than 15\n",
      "14 is less than 15\n"
     ]
    }
   ],
   "source": [
    "var = 10\n",
    "\n",
    "while var < 15:\n",
    "    print(var, \"is less than 15\")\n",
    "    var = var + 1"
   ]
  },
  {
   "cell_type": "code",
   "execution_count": null,
   "metadata": {},
   "outputs": [],
   "source": [
    "var = 10\n",
    "\n",
    "while var < 30:\n",
    "    print(var, \"is still less than 30\")\n",
    "    var += 1"
   ]
  },
  {
   "cell_type": "code",
   "execution_count": null,
   "metadata": {},
   "outputs": [],
   "source": [
    "var = 20\n",
    "\n",
    "while var > 0:\n",
    "    print(var)\n",
    "    var -= 1"
   ]
  },
  {
   "cell_type": "code",
   "execution_count": null,
   "metadata": {},
   "outputs": [],
   "source": [
    "var = 20\n",
    "\n",
    "while var > 0:\n",
    "    print(var, \"is greater than 0\")\n",
    "    var -= 1\n",
    "else:\n",
    "    print(var, \"breaks the loop\")"
   ]
  },
  {
   "cell_type": "markdown",
   "metadata": {},
   "source": [
    "#### Assignment: Write a loop for all the numbers between 1 and 20 multiplying itself"
   ]
  },
  {
   "cell_type": "code",
   "execution_count": 126,
   "metadata": {},
   "outputs": [
    {
     "name": "stdout",
     "output_type": "stream",
     "text": [
      "20 multiplied by itself is: 400\n",
      "19 multiplied by itself is: 361\n",
      "18 multiplied by itself is: 324\n",
      "17 multiplied by itself is: 289\n",
      "16 multiplied by itself is: 256\n",
      "15 multiplied by itself is: 225\n",
      "14 multiplied by itself is: 196\n",
      "13 multiplied by itself is: 169\n",
      "12 multiplied by itself is: 144\n",
      "11 multiplied by itself is: 121\n",
      "10 multiplied by itself is: 100\n",
      "9 multiplied by itself is: 81\n",
      "8 multiplied by itself is: 64\n",
      "7 multiplied by itself is: 49\n",
      "6 multiplied by itself is: 36\n",
      "5 multiplied by itself is: 25\n",
      "4 multiplied by itself is: 16\n",
      "3 multiplied by itself is: 9\n",
      "2 multiplied by itself is: 4\n",
      "1 multiplied by itself is: 1\n"
     ]
    }
   ],
   "source": [
    "var = 20\n",
    "\n",
    "while var > 0:\n",
    "    print(var, \"multiplied by itself is:\", var ** 2)\n",
    "    var -= 1"
   ]
  },
  {
   "cell_type": "code",
   "execution_count": 127,
   "metadata": {},
   "outputs": [
    {
     "name": "stdout",
     "output_type": "stream",
     "text": [
      "1 multiplied by itself is: 1\n",
      "2 multiplied by itself is: 4\n",
      "3 multiplied by itself is: 9\n",
      "4 multiplied by itself is: 16\n",
      "5 multiplied by itself is: 25\n",
      "6 multiplied by itself is: 36\n",
      "7 multiplied by itself is: 49\n",
      "8 multiplied by itself is: 64\n",
      "9 multiplied by itself is: 81\n",
      "10 multiplied by itself is: 100\n",
      "11 multiplied by itself is: 121\n",
      "12 multiplied by itself is: 144\n",
      "13 multiplied by itself is: 169\n",
      "14 multiplied by itself is: 196\n",
      "15 multiplied by itself is: 225\n",
      "16 multiplied by itself is: 256\n",
      "17 multiplied by itself is: 289\n",
      "18 multiplied by itself is: 324\n",
      "19 multiplied by itself is: 361\n",
      "20 multiplied by itself is: 400\n"
     ]
    }
   ],
   "source": [
    "var = 1\n",
    "\n",
    "while var <= 20:\n",
    "    print(var, \"multiplied by itself is:\", var ** 2)\n",
    "    var +=1"
   ]
  },
  {
   "cell_type": "code",
   "execution_count": 129,
   "metadata": {},
   "outputs": [
    {
     "name": "stdout",
     "output_type": "stream",
     "text": [
      "1 is:  1\n",
      "2 is:  4\n",
      "3 is:  9\n",
      "4 is:  16\n",
      "5 is:  25\n",
      "6 is:  36\n",
      "7 is:  49\n",
      "8 is:  64\n",
      "9 is:  81\n",
      "10 is:  100\n",
      "11 is:  121\n",
      "12 is:  144\n",
      "13 is:  169\n",
      "14 is:  196\n",
      "15 is:  225\n",
      "16 is:  256\n",
      "17 is:  289\n",
      "18 is:  324\n",
      "19 is:  361\n",
      "20 is:  400\n"
     ]
    }
   ],
   "source": [
    "n = 1\n",
    "\n",
    "while n <= 20:\n",
    "    print(n, 'is: ', n*n)\n",
    "    n += 1  #Chandan"
   ]
  },
  {
   "cell_type": "markdown",
   "metadata": {},
   "source": [
    "### For Loops"
   ]
  },
  {
   "cell_type": "code",
   "execution_count": 138,
   "metadata": {},
   "outputs": [
    {
     "name": "stdout",
     "output_type": "stream",
     "text": [
      "5.0\n",
      "4.5\n",
      "4.0\n",
      "3.5\n",
      "3.0\n",
      "2.5\n",
      "2.0\n",
      "1.5\n",
      "1.0\n",
      "0.5\n"
     ]
    }
   ],
   "source": [
    "MyNumbers\n",
    "\n",
    "for i in MyNumbers:\n",
    "    print(i * 0.5)"
   ]
  },
  {
   "cell_type": "code",
   "execution_count": 148,
   "metadata": {},
   "outputs": [
    {
     "data": {
      "text/plain": [
       "[10, 9, 8, 7, 6, 5, 4, 3, 2, 1]"
      ]
     },
     "execution_count": 148,
     "metadata": {},
     "output_type": "execute_result"
    }
   ],
   "source": [
    "MyNumbers"
   ]
  },
  {
   "cell_type": "code",
   "execution_count": 149,
   "metadata": {},
   "outputs": [],
   "source": [
    "MyNumbers2 = []\n",
    "\n",
    "for i in MyNumbers:\n",
    "    a = i * 0.5\n",
    "    MyNumbers2.append(a)"
   ]
  },
  {
   "cell_type": "code",
   "execution_count": 150,
   "metadata": {},
   "outputs": [
    {
     "name": "stdout",
     "output_type": "stream",
     "text": [
      "[5.0, 4.5, 4.0, 3.5, 3.0, 2.5, 2.0, 1.5, 1.0, 0.5]\n"
     ]
    }
   ],
   "source": [
    "print(MyNumbers2)"
   ]
  },
  {
   "cell_type": "code",
   "execution_count": 144,
   "metadata": {},
   "outputs": [
    {
     "name": "stdout",
     "output_type": "stream",
     "text": [
      "[]\n"
     ]
    }
   ],
   "source": [
    "#Write a python program that creates a list for all values less than 5 between the range of 0 - 10\n",
    "MyList = [] #create an empty\n",
    "print(MyList)\n",
    "\n",
    "range(0, 10)\n",
    "\n",
    "for i in range(0, 10):\n",
    "    if i < 5:\n",
    "        MyList.append(i)"
   ]
  },
  {
   "cell_type": "code",
   "execution_count": 145,
   "metadata": {},
   "outputs": [
    {
     "name": "stdout",
     "output_type": "stream",
     "text": [
      "[0, 1, 2, 3, 4]\n"
     ]
    }
   ],
   "source": [
    "print(MyList)"
   ]
  },
  {
   "cell_type": "markdown",
   "metadata": {},
   "source": [
    "W3schools.com[W3schools.com]"
   ]
  }
 ],
 "metadata": {
  "kernelspec": {
   "display_name": "Python 3",
   "language": "python",
   "name": "python3"
  },
  "language_info": {
   "codemirror_mode": {
    "name": "ipython",
    "version": 3
   },
   "file_extension": ".py",
   "mimetype": "text/x-python",
   "name": "python",
   "nbconvert_exporter": "python",
   "pygments_lexer": "ipython3",
   "version": "3.8.5"
  }
 },
 "nbformat": 4,
 "nbformat_minor": 2
}
